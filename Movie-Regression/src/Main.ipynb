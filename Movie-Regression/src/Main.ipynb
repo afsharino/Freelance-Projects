{
 "cells": [
  {
   "cell_type": "markdown",
   "id": "830c6667",
   "metadata": {},
   "source": [
    "# Import Libraries"
   ]
  },
  {
   "cell_type": "code",
   "execution_count": null,
   "id": "d40661fa",
   "metadata": {},
   "outputs": [
    {
     "name": "stderr",
     "output_type": "stream",
     "text": [
      "2023-12-18 16:12:03.633217: I tensorflow/core/platform/cpu_feature_guard.cc:182] This TensorFlow binary is optimized to use available CPU instructions in performance-critical operations.\n",
      "To enable the following instructions: SSE4.1 SSE4.2 AVX AVX2 FMA, in other operations, rebuild TensorFlow with the appropriate compiler flags.\n"
     ]
    }
   ],
   "source": [
    "# Scientific \n",
    "import numpy as np\n",
    "import pandas as pd\n",
    "\n",
    "# Visualization\n",
    "import matplotlib.pyplot as  plt\n",
    "import seaborn as sns\n",
    "\n",
    "\n",
    "# Machine Learning\n",
    "from sklearn.model_selection import train_test_split\n",
    "from sklearn.tree import DecisionTreeRegressor\n",
    "from sklearn.metrics import mean_absolute_error, mean_squared_error\n",
    "from sklearn.preprocessing import StandardScaler\n",
    "\n",
    "# Deep Learning\n",
    "import tensorflow as tf\n",
    "from keras.models import Sequential\n",
    "from keras.layers import Dense\n",
    "\n",
    "# Others\n",
    "import warnings\n",
    "warnings.filterwarnings('ignore')"
   ]
  },
  {
   "cell_type": "markdown",
   "id": "16c909f1",
   "metadata": {},
   "source": [
    "# Load Dataset"
   ]
  },
  {
   "cell_type": "code",
   "execution_count": null,
   "id": "8f7f28c1",
   "metadata": {},
   "outputs": [],
   "source": [
    "data = pd.read_excel(r'../dataset/movie-dataset.xlsx')"
   ]
  },
  {
   "cell_type": "markdown",
   "id": "910e81bb",
   "metadata": {},
   "source": [
    "# Data Exploration"
   ]
  },
  {
   "cell_type": "code",
   "execution_count": null,
   "id": "9136f2bd",
   "metadata": {},
   "outputs": [],
   "source": [
    "data.head(data.shape[0])"
   ]
  },
  {
   "cell_type": "code",
   "execution_count": null,
   "id": "1a74ccc2",
   "metadata": {},
   "outputs": [],
   "source": [
    "data.shape"
   ]
  },
  {
   "cell_type": "code",
   "execution_count": null,
   "id": "f811c01a",
   "metadata": {},
   "outputs": [],
   "source": [
    "data.info()"
   ]
  },
  {
   "cell_type": "code",
   "execution_count": null,
   "id": "0b161c6f",
   "metadata": {},
   "outputs": [],
   "source": [
    "np.unique(data.Genre, return_counts=True)"
   ]
  },
  {
   "cell_type": "code",
   "execution_count": null,
   "id": "e8254d9a",
   "metadata": {},
   "outputs": [],
   "source": [
    "np.unique(data.Sequel, return_counts=True)"
   ]
  },
  {
   "cell_type": "code",
   "execution_count": null,
   "id": "77e67b89",
   "metadata": {},
   "outputs": [],
   "source": [
    "data.describe()"
   ]
  },
  {
   "cell_type": "code",
   "execution_count": null,
   "id": "10f17f88",
   "metadata": {},
   "outputs": [],
   "source": [
    "sns.countplot(data=data, x='Year')\n",
    "plt.show()"
   ]
  },
  {
   "cell_type": "code",
   "execution_count": null,
   "id": "31d3e3e0",
   "metadata": {},
   "outputs": [],
   "source": [
    "plt.figure(figsize=(10, 10))\n",
    "sns.heatmap(data.drop('Movie', axis=1).corr(), cmap='YlGnBu', annot=True, linewidths = 0.2);"
   ]
  },
  {
   "cell_type": "code",
   "execution_count": null,
   "id": "1d8218be",
   "metadata": {},
   "outputs": [],
   "source": [
    "plt.figure(figsize=(12, 4))\n",
    "sns.scatterplot(data=data, x=\"Budget\", y=\"Gross\")\n",
    "plt.show()"
   ]
  },
  {
   "cell_type": "code",
   "execution_count": null,
   "id": "a74d78a5",
   "metadata": {},
   "outputs": [],
   "source": [
    "sns.displot(data=data, x='Gross')\n",
    "plt.show()"
   ]
  },
  {
   "cell_type": "markdown",
   "id": "ee7ef5be",
   "metadata": {},
   "source": [
    "# Data Preproccessing"
   ]
  },
  {
   "cell_type": "code",
   "execution_count": null,
   "id": "6e072304",
   "metadata": {},
   "outputs": [],
   "source": [
    "# lowercase all feature names\n",
    "data.rename(str.lower, axis='columns', inplace=True)"
   ]
  },
  {
   "cell_type": "code",
   "execution_count": null,
   "id": "d9c01760",
   "metadata": {},
   "outputs": [],
   "source": [
    "# remove NaN values and duplicates\n",
    "data.dropna(inplace=True)\n",
    "data.drop_duplicates(inplace=True)"
   ]
  },
  {
   "cell_type": "markdown",
   "id": "ad74045e",
   "metadata": {},
   "source": [
    "# Train Test Split"
   ]
  },
  {
   "cell_type": "code",
   "execution_count": null,
   "id": "47002aad",
   "metadata": {
    "scrolled": true
   },
   "outputs": [],
   "source": [
    "#X = data.drop(['movie', 'gross'], axis=1)\n",
    "X = data[['budget', 'sequel', 'screens']]\n",
    "y = data.gross"
   ]
  },
  {
   "cell_type": "code",
   "execution_count": null,
   "id": "d0983b43",
   "metadata": {},
   "outputs": [],
   "source": [
    "X_train, X_test, y_train, y_test = train_test_split(X, y, test_size=0.2, random_state=42)"
   ]
  },
  {
   "cell_type": "code",
   "execution_count": null,
   "id": "1b01152f",
   "metadata": {},
   "outputs": [],
   "source": [
    "# scaler = StandardScaler()\n",
    "# X_train_scaled = scaler.fit_transform(X_train)\n",
    "# X_test_scaled = scaler.transform(X_test)"
   ]
  },
  {
   "cell_type": "code",
   "execution_count": null,
   "id": "2a4427b4",
   "metadata": {},
   "outputs": [],
   "source": [
    "scaler_X = StandardScaler()\n",
    "X_train_scaled = scaler_X.fit_transform(X_train)\n",
    "X_test_scaled = scaler_X.transform(X_test)\n",
    "\n",
    "scaler_y = StandardScaler()\n",
    "y_train_scaled = scaler_y.fit_transform(y_train.values.reshape(-1, 1))\n",
    "y_test_scaled = scaler_y.transform(y_test.values.reshape(-1, 1))"
   ]
  },
  {
   "cell_type": "markdown",
   "id": "d4fc9bd5",
   "metadata": {},
   "source": [
    "# Fit Model"
   ]
  },
  {
   "cell_type": "markdown",
   "id": "e84f37ab",
   "metadata": {},
   "source": [
    "## Decission Tree"
   ]
  },
  {
   "cell_type": "code",
   "execution_count": null,
   "id": "ab2fb0d6",
   "metadata": {},
   "outputs": [],
   "source": [
    "dt_model = DecisionTreeRegressor(max_depth=2)\n",
    "_ = dt_model.fit(X_train_scaled, y_train_scaled)"
   ]
  },
  {
   "cell_type": "code",
   "execution_count": null,
   "id": "b39731a6",
   "metadata": {},
   "outputs": [],
   "source": [
    "y_pred_dt= dt_model.predict(X_test_scaled)"
   ]
  },
  {
   "cell_type": "code",
   "execution_count": null,
   "id": "25970c3e",
   "metadata": {},
   "outputs": [],
   "source": [
    "dt_mse = mean_squared_error(y_test_scaled, y_pred_dt)\n",
    "print(f\"The mse of decission tree is: {dt_mse}\")\n",
    "\n",
    "dt_rmse = np.sqrt(mean_squared_error(y_test_scaled, y_pred_dt))\n",
    "print(f\"The rmse of decission tree is: {dt_mse}\")\n",
    "\n",
    "dt_mae = mean_absolute_error(y_test_scaled, y_pred_dt)\n",
    "print(f\"The mae of decission tree is: {dt_mae}\")"
   ]
  },
  {
   "cell_type": "markdown",
   "id": "03120029",
   "metadata": {},
   "source": [
    "## Neural Network"
   ]
  },
  {
   "cell_type": "code",
   "execution_count": null,
   "id": "b30449de",
   "metadata": {},
   "outputs": [],
   "source": [
    "nn_model = Sequential()\n",
    "nn_model.add((Dense(128, input_dim=X_train_scaled.shape[1], activation='relu')))\n",
    "nn_model.add((Dense(64, activation='relu')))\n",
    "nn_model.add((Dense(32, activation='relu')))\n",
    "\n",
    "nn_model.add((Dense(1, activation='linear')))"
   ]
  },
  {
   "cell_type": "code",
   "execution_count": null,
   "id": "f85dcafa",
   "metadata": {},
   "outputs": [],
   "source": [
    "optimizer = tf.keras.optimizers.Adam(learning_rate=0.001)"
   ]
  },
  {
   "cell_type": "code",
   "execution_count": null,
   "id": "043c1127",
   "metadata": {},
   "outputs": [],
   "source": [
    "nn_model.compile(loss='mean_squared_error', optimizer=optimizer)"
   ]
  },
  {
   "cell_type": "code",
   "execution_count": null,
   "id": "1984996e",
   "metadata": {},
   "outputs": [],
   "source": [
    "nn_model.summary()"
   ]
  },
  {
   "cell_type": "code",
   "execution_count": null,
   "id": "3f8dc9b7",
   "metadata": {},
   "outputs": [],
   "source": [
    "history = nn_model.fit(X_train_scaled, y_train_scaled, epochs=50, batch_size=32, validation_split=0.2, verbose=2)"
   ]
  },
  {
   "cell_type": "code",
   "execution_count": null,
   "id": "8eb74aa1",
   "metadata": {},
   "outputs": [],
   "source": [
    "loss = history.history['loss']\n",
    "val_loss = history.history['val_loss']\n",
    "epochs = range(1, len(loss)+1)\n",
    "plt.plot(epochs, loss, 'y', label='training-loss')\n",
    "plt.plot(epochs, val_loss, 'r', label='val_loss')\n",
    "plt.xlabel('epochs')\n",
    "plt.ylabel('loss')\n",
    "plt.legend()\n",
    "plt.tight_layout()\n",
    "plt.show()"
   ]
  },
  {
   "cell_type": "code",
   "execution_count": null,
   "id": "1c814062",
   "metadata": {},
   "outputs": [],
   "source": [
    "y_pred_nn = nn_model.predict(X_test_scaled)"
   ]
  },
  {
   "cell_type": "code",
   "execution_count": null,
   "id": "5b7c2fe9",
   "metadata": {},
   "outputs": [],
   "source": [
    "nn_mse = mean_squared_error(y_test_scaled, y_pred_nn)\n",
    "print(f\"The mse of neural net is: {nn_mse}\")\n",
    "\n",
    "nn_rmse = np.sqrt(mean_squared_error(y_test_scaled, y_pred_nn))\n",
    "print(f\"The rmse of neural net is: {nn_rmse}\")\n",
    "\n",
    "nn_mae = mean_absolute_error(y_test_scaled, y_pred_nn)\n",
    "print(f\"The mae of neural net is: {nn_mae}\")"
   ]
  },
  {
   "cell_type": "code",
   "execution_count": null,
   "id": "3fdf73ce",
   "metadata": {},
   "outputs": [],
   "source": [
    "y_pred_nn[:5]"
   ]
  },
  {
   "cell_type": "code",
   "execution_count": null,
   "id": "aa636ece",
   "metadata": {},
   "outputs": [],
   "source": [
    "y_test_scaled[:5]"
   ]
  }
 ],
 "metadata": {
  "kernelspec": {
   "display_name": "Python 3 (ipykernel)",
   "language": "python",
   "name": "python3"
  },
  "language_info": {
   "codemirror_mode": {
    "name": "ipython",
    "version": 3
   },
   "file_extension": ".py",
   "mimetype": "text/x-python",
   "name": "python",
   "nbconvert_exporter": "python",
   "pygments_lexer": "ipython3",
   "version": "3.11.4"
  }
 },
 "nbformat": 4,
 "nbformat_minor": 5
}
